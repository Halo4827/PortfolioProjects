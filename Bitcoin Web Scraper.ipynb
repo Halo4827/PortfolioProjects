{
 "cells": [
  {
   "cell_type": "markdown",
   "id": "dc30cc9a",
   "metadata": {},
   "source": [
    "# Bitcoin Web Scraper"
   ]
  },
  {
   "cell_type": "code",
   "execution_count": null,
   "id": "1333d2ef",
   "metadata": {},
   "outputs": [
    {
     "name": "stdout",
     "output_type": "stream",
     "text": [
      "  Crypto Name      Price                  TimeStamp\n",
      "0     Bitcoin  41,758.73 2024-01-20 13:30:52.602990\n"
     ]
    }
   ],
   "source": [
    "from bs4 import BeautifulSoup\n",
    "import os\n",
    "from datetime import datetime\n",
    "import time\n",
    "import requests\n",
    "import pandas as pd\n",
    "\n",
    "def automated_crypto_pull():\n",
    "    \n",
    "    # URL of the cryptocurrency page on CoinMarketCap\n",
    "    url ='https://coinmarketcap.com/currencies/bitcoin/'\n",
    "\n",
    "    # Sending an HTTP request to the specified URL\n",
    "    page = requests.get(url)\n",
    "\n",
    "    # Parsing the HTML content of the page using BeautifulSoup\n",
    "    soup = BeautifulSoup(page.text, 'html')\n",
    "\n",
    "    # Extracting the cryptocurrency name from the page\n",
    "    crypto_name = soup.find('span', class_='sc-f70bb44c-0 jltoa').text[:7]\n",
    "\n",
    "    # Extracting the cryptocurrency price from the page\n",
    "    crypto_price = soup.find('span', class_='sc-f70bb44c-0 jxpCgO base-text').text\n",
    "\n",
    "    # Removing the '$' sign from the price\n",
    "    final_price = crypto_price.replace('$', '')\n",
    "\n",
    "    # Getting the current date and time\n",
    "    date_time = datetime.now()\n",
    "\n",
    "    # Creating a dictionary with extracted information\n",
    "    dict ={'Crypto Name': crypto_name,\n",
    "           'Price': final_price,\n",
    "           'TimeStamp': date_time}\n",
    "\n",
    "     # Creating a DataFrame with the dictionary \n",
    "    df = pd.DataFrame([dict])\n",
    "\n",
    "    # Checking if the CSV file exists\n",
    "    if os.path.exists(r'C:\\Users\\worob\\Desktop\\PythonCourse\\Crypto Web Puller\\Crypto_Automated_Pull.csv'):\n",
    "        # Appending the DataFrame to the existing CSV file\n",
    "        df.to_csv(r'C:\\Users\\worob\\Desktop\\PythonCourse\\Crypto Web Puller\\Crypto_Automated_Pull.csv', mode ='a', header = False, index = False)\n",
    "    else:\n",
    "        # Creating a new CSV file if it doesn't exist\n",
    "        df.to_csv(r'C:\\Users\\worob\\Desktop\\PythonCourse\\Crypto Web Puller\\Crypto_Automated_Pull.csv', index = False)\n",
    "    # Printing the DataFrame\n",
    "    print(df)\n",
    "\n",
    "\n",
    "# Running the automated_crypto_pull function every hour\n",
    "while True:\n",
    "    automated_crypto_pull()\n",
    "    time.sleep(3600)"
   ]
  },
  {
   "cell_type": "code",
   "execution_count": null,
   "id": "985bf6c8",
   "metadata": {},
   "outputs": [],
   "source": []
  }
 ],
 "metadata": {
  "kernelspec": {
   "display_name": "Python 3 (ipykernel)",
   "language": "python",
   "name": "python3"
  },
  "language_info": {
   "codemirror_mode": {
    "name": "ipython",
    "version": 3
   },
   "file_extension": ".py",
   "mimetype": "text/x-python",
   "name": "python",
   "nbconvert_exporter": "python",
   "pygments_lexer": "ipython3",
   "version": "3.11.5"
  }
 },
 "nbformat": 4,
 "nbformat_minor": 5
}
