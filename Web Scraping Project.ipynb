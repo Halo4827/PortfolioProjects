{
 "cells": [
  {
   "cell_type": "markdown",
   "id": "8255ff18",
   "metadata": {},
   "source": [
    "# Web Scraping Project"
   ]
  },
  {
   "cell_type": "code",
   "execution_count": 2,
   "id": "a8bc0760",
   "metadata": {},
   "outputs": [],
   "source": [
    "from bs4 import BeautifulSoup\n",
    "import requests\n",
    "import re\n",
    "import pandas as pd\n",
    "\n",
    "# URL of the page containing Martin Luther King Jr.'s speech\n",
    "url ='http://www.analytictech.com/mb021/mlk.htm'\n",
    "\n",
    "# Sending an HTTP request to the specified URL\n",
    "page=requests.get(url)\n",
    "\n",
    "# Parsing the HTML content of the page using BeautifulSoup\n",
    "soup =BeautifulSoup(page.text, 'html')\n",
    "\n",
    "# Finding all paragraph elements in the HTML\n",
    "mlkj_speech =soup.find_all('p')\n",
    "\n",
    "# Extracting text from each paragraph and combining into a single string\n",
    "speech_combined = [p.text for p in mlkj_speech]\n",
    "\n",
    "# Combining the paragraphs into a single string\n",
    "string_speech =' '.join(speech_combined)\n",
    "\n",
    "# Removing newline characters from the combined string\n",
    "string_speech_cleaned = string_speech.replace('\\r\\n', ' ')\n",
    "\n",
    "# Removing punctuation and special characters from the cleaned string\n",
    "speech_no_punt = re.sub(r'[^\\w\\s]','',string_speech_cleaned)\n",
    "\n",
    "# Converting the cleaned string to lowercase\n",
    "speech_lower=speech_no_punt.lower()\n",
    "\n",
    "# Splitting the string into a list of words\n",
    "speech_broken_out = re.split(r'\\s+', speech_lower)\n",
    "\n",
    "# Creating a DataFrame and counting the occurrences of each word\n",
    "df = pd.DataFrame(speech_broken_out).value_counts()\n",
    "\n",
    "# Saving the word counts to a CSV file\n",
    "df.to_csv(r'C:\\Users\\worob\\Desktop\\PythonCourse\\web scraping\\MLKJ_Speech_Counts.csv', header = ['Counts'],index_label='Word')"
   ]
  },
  {
   "cell_type": "code",
   "execution_count": null,
   "id": "3ce635e8",
   "metadata": {},
   "outputs": [],
   "source": []
  },
  {
   "cell_type": "code",
   "execution_count": null,
   "id": "e2001a3b",
   "metadata": {},
   "outputs": [],
   "source": []
  }
 ],
 "metadata": {
  "kernelspec": {
   "display_name": "Python 3 (ipykernel)",
   "language": "python",
   "name": "python3"
  },
  "language_info": {
   "codemirror_mode": {
    "name": "ipython",
    "version": 3
   },
   "file_extension": ".py",
   "mimetype": "text/x-python",
   "name": "python",
   "nbconvert_exporter": "python",
   "pygments_lexer": "ipython3",
   "version": "3.11.5"
  }
 },
 "nbformat": 4,
 "nbformat_minor": 5
}
